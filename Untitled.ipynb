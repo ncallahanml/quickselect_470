{
 "cells": [
  {
   "cell_type": "code",
   "execution_count": 32,
   "id": "1ed68a2e",
   "metadata": {},
   "outputs": [],
   "source": [
    "# def partition(arr, left, right):\n",
    "#     pivot = arr[right]\n",
    "#     i = left\n",
    "    \n",
    "#     for x in range(left, right):"
   ]
  },
  {
   "cell_type": "code",
   "execution_count": 48,
   "id": "5b32f99d",
   "metadata": {},
   "outputs": [],
   "source": [
    "# quick select\n",
    "\n",
    "#partition & return partition index\n",
    "def partition(l, r, arr):\n",
    "    p = arr[r]\n",
    "    i = l\n",
    "    \n",
    "    for x in range(l, r):\n",
    "        if arr[x] >= p:\n",
    "#             indices.append((i, x))\n",
    "            arr[i], arr[x] = arr[x], arr[i]\n",
    "            i += 1\n",
    "            \n",
    "    arr[i], arr[r] = arr[r], arr[i]\n",
    "    return i\n",
    "\n",
    "#find kth largest\n",
    "def kthLargestNum(l, r, k, arr):\n",
    "    #if k less than total # elements\n",
    "    if k > 0 and k <= r - l + 1:\n",
    "        #use last element as partition\n",
    "        index = partition(l, r, arr)\n",
    "        \n",
    "        #if index == kth largest\n",
    "        if(index - l == k):\n",
    "            #for i in arr:\n",
    "#             print(arr)\n",
    "            return index\n",
    "        \n",
    "        #left subarray\n",
    "        if(index - l > k - 1):\n",
    "            return kthLargestNum(l, index - 1, k, arr)\n",
    "        \n",
    "        #right subarray\n",
    "        return kthLargestNum(index + 1, r, k - index + l - 1, arr)\n",
    "    \n",
    "# def quick_select(arr, k):\n",
    "#     l = 0\n",
    "# #     r = len(arr) - 1\n",
    "# #     print(arr)\n",
    "#     index = partition(0, k, arr)\n",
    "#     return index"
   ]
  },
  {
   "cell_type": "code",
   "execution_count": 49,
   "id": "7b05a250",
   "metadata": {},
   "outputs": [
    {
     "name": "stdout",
     "output_type": "stream",
     "text": [
      "Original:  [3, 6, 9, 2, 1, 4, 8, 7, 5, 0, 0, 0, 0, 0, 1, 1, 1, 1, 10, 11]\n",
      "Sorted:    [0, 0, 0, 0, 0, 1, 1, 1, 1, 1, 2, 3, 4, 5, 6, 7, 8, 9, 10, 11]\n",
      "Target:    1\n",
      "After:     [11, 6, 9, 4, 8, 7, 5, 10, 3, 2, 1, 1, 1, 1, 1, 0, 0, 0, 0, 0]\n",
      "Solution:  1\n",
      "Solution:  1\n"
     ]
    }
   ],
   "source": [
    "indices = list()\n",
    "\n",
    "K = 12\n",
    "\n",
    "test_list = [3,6,9,2,1,4,8,7,5,0,0,0,0,0,1,1,1,1,10,11]\n",
    "assert K < len(test_list)\n",
    "\n",
    "print('Original: ', test_list)\n",
    "print('Sorted:   ', sorted(test_list))\n",
    "print('Target:   ', sorted(test_list)[len(test_list) - 1 - K])\n",
    "# solution = quick_select(test_list, K)\n",
    "solution = kthLargestNum(0, len(test_list)-1, K, test_list)\n",
    "print('After:    ', test_list)\n",
    "\n",
    "# print(test_list)\n",
    "print('Solution: ', test_list[solution])\n",
    "print('Solution: ', test_list[K])"
   ]
  },
  {
   "cell_type": "code",
   "execution_count": null,
   "id": "dadaf735",
   "metadata": {},
   "outputs": [],
   "source": []
  }
 ],
 "metadata": {
  "kernelspec": {
   "display_name": "Python 3 (ipykernel)",
   "language": "python",
   "name": "python3"
  },
  "language_info": {
   "codemirror_mode": {
    "name": "ipython",
    "version": 3
   },
   "file_extension": ".py",
   "mimetype": "text/x-python",
   "name": "python",
   "nbconvert_exporter": "python",
   "pygments_lexer": "ipython3",
   "version": "3.10.4"
  }
 },
 "nbformat": 4,
 "nbformat_minor": 5
}
