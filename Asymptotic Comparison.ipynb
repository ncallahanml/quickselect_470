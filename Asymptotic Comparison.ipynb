{
 "cells": [
  {
   "cell_type": "code",
   "execution_count": 1,
   "id": "c99a0804",
   "metadata": {},
   "outputs": [],
   "source": [
    "from copy import deepcopy\n",
    "import numpy as np"
   ]
  },
  {
   "cell_type": "code",
   "execution_count": null,
   "id": "f52c065a",
   "metadata": {},
   "outputs": [],
   "source": []
  },
  {
   "cell_type": "markdown",
   "id": "aef87f48",
   "metadata": {},
   "source": [
    "# Merge Sort"
   ]
  },
  {
   "cell_type": "code",
   "execution_count": 2,
   "id": "9728543e",
   "metadata": {},
   "outputs": [],
   "source": [
    "def sort(arr, sort_type='merge sort'):\n",
    "    if sort_type == 'merge sort':\n",
    "        merge_sort(arr, 0, len(arr) - 1)\n",
    "    return"
   ]
  },
  {
   "cell_type": "code",
   "execution_count": 1,
   "id": "671d687f",
   "metadata": {},
   "outputs": [],
   "source": [
    "def merge_sort(numbers, left, right):\n",
    "    if (left < right):\n",
    "        middle = (left + right) // 2\n",
    "\n",
    "        merge_sort(numbers, left, middle)\n",
    "        merge_sort(numbers, middle + 1, right)\n",
    "        merge(numbers, left, middle, right)\n",
    "\n",
    "def merge(numbers, left, middle, right):\n",
    "    # define index iterators: \n",
    "    # left arr: [i,...,middle], right arr: [j,...,right]\n",
    "    # working arr: [0,...,k,...,N-1]\n",
    "    i = left\n",
    "    j = middle + 1\n",
    "    k = left\n",
    "\n",
    "    # copy of the working array\n",
    "    temp = numbers\n",
    "    numbers = np.empty(len(temp))\n",
    "    \n",
    "    # iterate until one of the sides runs out of items\n",
    "    while (i <= middle and j <= right):\n",
    "        \n",
    "\n",
    "        if (temp[i] <= temp[j]):\n",
    "            numbers[k] = temp[i]\n",
    "            \n",
    "            i += 1\n",
    "        else:\n",
    "            numbers[k] = temp[j]\n",
    "            \n",
    "            j += 1\n",
    "\n",
    "        k += 1\n",
    "    \n",
    "    #append remaining from left side\n",
    "    while (i <= middle):\n",
    "\n",
    "        numbers[k] = temp[i]\n",
    "        \n",
    "        k += 1\n",
    "        i += 1\n",
    "\n",
    "    #append remaining from right side\n",
    "    while (j <= right):\n",
    "\n",
    "        numbers[k] = temp[j]\n",
    "        \n",
    "        \n",
    "        k += 1\n",
    "        j += 1"
   ]
  },
  {
   "cell_type": "code",
   "execution_count": 2,
   "id": "96fdffea",
   "metadata": {},
   "outputs": [
    {
     "name": "stdout",
     "output_type": "stream",
     "text": [
      "[3, 6, 9, 2, 1, 4, 8, 7, 5, 0]\n"
     ]
    },
    {
     "ename": "NameError",
     "evalue": "name 'sort' is not defined",
     "output_type": "error",
     "traceback": [
      "\u001b[1;31m---------------------------------------------------------------------------\u001b[0m",
      "\u001b[1;31mNameError\u001b[0m                                 Traceback (most recent call last)",
      "Cell \u001b[1;32mIn[2], line 3\u001b[0m\n\u001b[0;32m      1\u001b[0m test_list \u001b[38;5;241m=\u001b[39m [\u001b[38;5;241m3\u001b[39m,\u001b[38;5;241m6\u001b[39m,\u001b[38;5;241m9\u001b[39m,\u001b[38;5;241m2\u001b[39m,\u001b[38;5;241m1\u001b[39m,\u001b[38;5;241m4\u001b[39m,\u001b[38;5;241m8\u001b[39m,\u001b[38;5;241m7\u001b[39m,\u001b[38;5;241m5\u001b[39m,\u001b[38;5;241m0\u001b[39m]\n\u001b[0;32m      2\u001b[0m \u001b[38;5;28mprint\u001b[39m(test_list)\n\u001b[1;32m----> 3\u001b[0m \u001b[43msort\u001b[49m(test_list, sort_type\u001b[38;5;241m=\u001b[39m\u001b[38;5;124m'\u001b[39m\u001b[38;5;124mmerge sort\u001b[39m\u001b[38;5;124m'\u001b[39m)\n\u001b[0;32m      4\u001b[0m \u001b[38;5;28mprint\u001b[39m(test_list)\n",
      "\u001b[1;31mNameError\u001b[0m: name 'sort' is not defined"
     ]
    }
   ],
   "source": [
    "test_list = [3,6,9,2,1,4,8,7,5,0]\n",
    "print(test_list)\n",
    "sort(test_list, sort_type='merge sort')\n",
    "print(test_list)"
   ]
  },
  {
   "cell_type": "code",
   "execution_count": 2,
   "id": "9204e012",
   "metadata": {},
   "outputs": [
    {
     "name": "stdout",
     "output_type": "stream",
     "text": [
      "Progress: 0.0\n"
     ]
    },
    {
     "ename": "NameError",
     "evalue": "name 'sort' is not defined",
     "output_type": "error",
     "traceback": [
      "\u001b[1;31m---------------------------------------------------------------------------\u001b[0m",
      "\u001b[1;31mNameError\u001b[0m                                 Traceback (most recent call last)",
      "Cell \u001b[1;32mIn[2], line 15\u001b[0m\n\u001b[0;32m     13\u001b[0m arr \u001b[38;5;241m=\u001b[39m np\u001b[38;5;241m.\u001b[39mrandom\u001b[38;5;241m.\u001b[39mrandint(\u001b[38;5;241m0\u001b[39m, max_size, size\u001b[38;5;241m=\u001b[39marraysize)\n\u001b[0;32m     14\u001b[0m start \u001b[38;5;241m=\u001b[39m perf_counter_ns()\n\u001b[1;32m---> 15\u001b[0m \u001b[43msort\u001b[49m(arr, sort_type\u001b[38;5;241m=\u001b[39m\u001b[38;5;124m'\u001b[39m\u001b[38;5;124mmerge sort\u001b[39m\u001b[38;5;124m'\u001b[39m)\n\u001b[0;32m     16\u001b[0m end \u001b[38;5;241m=\u001b[39m perf_counter_ns()\n\u001b[0;32m     17\u001b[0m \u001b[38;5;28mprint\u001b[39m((end \u001b[38;5;241m-\u001b[39m start) \u001b[38;5;241m/\u001b[39m \u001b[38;5;241m1e9\u001b[39m)\n",
      "\u001b[1;31mNameError\u001b[0m: name 'sort' is not defined"
     ]
    }
   ],
   "source": [
    "from timeit import timeit\n",
    "from time import perf_counter_ns\n",
    "import numpy as np\n",
    "import matplotlib.pyplot as plt\n",
    "\n",
    "max_size = 10000000\n",
    "arraysizes = np.linspace(10,max_size,100, dtype='int32')\n",
    "time_list = list()\n",
    "for i, arraysize in enumerate(arraysizes):\n",
    "    print('Progress:', i/(len(arraysizes)*3))\n",
    "    avg_list = list()\n",
    "    for j in range(3):\n",
    "        arr = np.random.randint(0, max_size, size=arraysize)\n",
    "        start = perf_counter_ns()\n",
    "        sort(arr, sort_type='merge sort')\n",
    "        end = perf_counter_ns()\n",
    "        print((end - start) / 1e9)\n",
    "        avg_list.append((end - start)/1e9)\n",
    "    time_list.append(np.median(avg_list))\n",
    "\n",
    "plt.plot(arraysizes, time_list, '-r')\n",
    "plt.show()"
   ]
  },
  {
   "cell_type": "markdown",
   "id": "673a2837",
   "metadata": {},
   "source": [
    "# Quick Sort"
   ]
  },
  {
   "cell_type": "code",
   "execution_count": 38,
   "id": "8270bad0",
   "metadata": {},
   "outputs": [],
   "source": [
    "# # quick select\n",
    "\n",
    "# #partition & return partition index\n",
    "# def partition(l, r, arr):\n",
    "#     p = arr[r]\n",
    "#     i = l\n",
    "    \n",
    "#     for x in range(l, r):\n",
    "#         if arr[x] >= p:\n",
    "#             arr[i], arr[x] = arr[x], arr[i]\n",
    "#             i += 1\n",
    "            \n",
    "#     arr[i], arr[r] = arr[r], arr[i]\n",
    "#     return i\n",
    "\n",
    "# #find kth largest\n",
    "# def kthLargestNum(l, r, k, arr):\n",
    "#     #if k less than total # elements\n",
    "#     if(k > 0 and k <= r - l + 1):\n",
    "#         #use last element as partition\n",
    "#         index = partition(l, r, arr)\n",
    "        \n",
    "#         #if index == kth largest\n",
    "#         if(index - l == k):\n",
    "#             #for i in arr:\n",
    "#             print(arr)\n",
    "#             return index\n",
    "        \n",
    "#         #left subarray\n",
    "#         if(index - l > k -1):\n",
    "#             return kthLargestNum(l, index - 1, k, arr)\n",
    "        \n",
    "#         #right subarray\n",
    "#         return kthLargestNum(index + 1, r, k - index + l - 1, arr)\n",
    "    \n",
    "# quick select\n",
    "\n",
    "#partition & return partition index\n",
    "def partition(l, r, arr):\n",
    "    p = arr[r]\n",
    "    i = l\n",
    "    \n",
    "    for x in range(l, r):\n",
    "        if arr[x] >= p:\n",
    "#             indices.append((i, x))\n",
    "            arr[i], arr[x] = arr[x], arr[i]\n",
    "            i += 1\n",
    "            \n",
    "    arr[i], arr[r] = arr[r], arr[i]\n",
    "    return i\n",
    "\n",
    "#find kth largest\n",
    "def kthLargestNum(l, r, k, arr):\n",
    "    #if k less than total # elements\n",
    "    if k > 0 and k <= r - l + 1:\n",
    "        #use last element as partition\n",
    "        index = partition(l, r, arr)\n",
    "        \n",
    "        #if index == kth largest\n",
    "        if(index - l == k - 1):\n",
    "            #for i in arr:\n",
    "#             print(arr)\n",
    "            return index\n",
    "        \n",
    "        #left subarray\n",
    "        if(index - l > k - 1):\n",
    "            return kthLargestNum(l, index - 1, k, arr)\n",
    "        \n",
    "        #right subarray\n",
    "        return kthLargestNum(index + 1, r, k - index + l - 1, arr)\n",
    "    \n",
    "def quick_select(arr, k, from_right=True):\n",
    "    assert k < len(arr)\n",
    "    if not from_right:\n",
    "        k = len(arr) - 1 - k\n",
    "    return kthLargestNum(0, len(arr)-1, k, arr)"
   ]
  },
  {
   "cell_type": "code",
   "execution_count": 71,
   "id": "0a082d81",
   "metadata": {},
   "outputs": [],
   "source": [
    "def lomuto_partition(arr, left, right, pivot_idx):\n",
    "    pivot = arr[pivot_idx]\n",
    "    arr[right], arr[pivot_idx] = arr[pivot_idx], arr[right]\n",
    "    i = left\n",
    "    for j in range(left, right):\n",
    "        if arr[j] < pivot:\n",
    "            arr[i], arr[j] = arr[j], arr[i] \n",
    "            i += 1\n",
    "            \n",
    "    arr[right], arr[i] = arr[i], arr[right]\n",
    "    return i\n",
    "\n",
    "def select(arr, left, right, k):\n",
    "    if left == right - 1:\n",
    "        return arr[left]\n",
    "    \n",
    "    pivot_idx = left + (right - left + 1) // 2\n",
    "    pivot_idx = lomuto_partition(arr, left, right, pivot_idx)\n",
    "    if k == pivot_idx:\n",
    "        return arr[k]\n",
    "    elif k < pivot_idx:\n",
    "        return select(arr, left, pivot_idx - 1, k)\n",
    "    else:\n",
    "        return select(arr, pivot_idx + 1, right, k)\n",
    "    \n",
    "def quick_select(arr, k):\n",
    "    assert 0 < k < len(arr), 'K out of bounds'\n",
    "    return select(arr, 0, len(arr)-1, k-1)"
   ]
  },
  {
   "cell_type": "code",
   "execution_count": 72,
   "id": "38ebd788",
   "metadata": {},
   "outputs": [
    {
     "name": "stdout",
     "output_type": "stream",
     "text": [
      "pass\n",
      "Sorted: [0, 8, 10, 12, 13, 15, 15, 16, 17, 18, 26, 26, 30, 30, 31, 43, 43, 46, 46, 50, 52, 56, 59, 59, 61, 62, 67, 68, 69, 73, 76, 77, 78, 81, 82, 82, 83, 84, 86, 87, 88, 90, 90, 103, 108, 110, 114, 119, 120, 120, 122, 125, 125, 127, 129, 130, 130, 131, 136, 136, 140, 142, 143, 143, 147, 152, 156, 162, 162, 163, 169, 172, 175, 191, 195, 197, 198, 199, 201, 203, 206, 206, 211, 214, 214, 221, 223, 224, 230, 231, 243, 243, 248, 250, 251, 252, 253, 254, 254, 254]\n",
      "pass\n",
      "Sorted: [1, 3, 4, 11, 11, 11, 14, 27, 29, 32, 37, 39, 40, 47, 47, 49, 52, 55, 60, 60, 65, 66, 66, 69, 69, 69, 74, 75, 76, 83, 84, 85, 87, 88, 91, 93, 93, 94, 95, 99, 101, 103, 103, 108, 111, 114, 123, 128, 134, 135, 135, 138, 141, 143, 144, 147, 148, 149, 153, 160, 163, 163, 168, 168, 169, 169, 172, 175, 182, 183, 188, 192, 194, 201, 202, 202, 202, 204, 205, 205, 214, 214, 220, 225, 226, 230, 233, 233, 235, 236, 237, 238, 239, 240, 243, 244, 247, 249, 253, 254]\n",
      "pass\n",
      "Sorted: [10, 16, 16, 21, 22, 23, 28, 28, 31, 35, 38, 38, 42, 43, 44, 46, 48, 48, 50, 52, 53, 58, 58, 69, 72, 74, 78, 85, 87, 88, 91, 95, 96, 100, 101, 107, 120, 120, 121, 123, 124, 125, 126, 126, 128, 129, 130, 138, 140, 142, 143, 143, 146, 146, 152, 157, 158, 160, 160, 161, 162, 168, 173, 177, 178, 180, 181, 181, 186, 188, 188, 188, 188, 189, 195, 196, 197, 197, 198, 205, 209, 209, 218, 222, 223, 223, 225, 225, 226, 228, 229, 230, 230, 234, 234, 238, 239, 250, 251, 252]\n",
      "pass\n",
      "Sorted: [3, 4, 7, 13, 16, 17, 21, 22, 24, 27, 29, 30, 31, 31, 33, 35, 36, 37, 37, 38, 47, 52, 52, 54, 56, 59, 59, 60, 68, 71, 71, 71, 72, 73, 77, 87, 99, 102, 103, 103, 108, 109, 110, 111, 112, 121, 121, 124, 127, 129, 133, 136, 139, 140, 141, 143, 144, 145, 147, 156, 159, 169, 171, 174, 177, 179, 181, 182, 182, 183, 184, 191, 195, 200, 203, 204, 204, 205, 206, 208, 208, 209, 210, 212, 215, 217, 219, 224, 226, 230, 232, 235, 237, 239, 242, 242, 246, 247, 248, 248]\n",
      "pass\n",
      "Sorted: [6, 10, 11, 17, 17, 17, 17, 18, 26, 34, 36, 37, 38, 43, 45, 50, 51, 51, 54, 54, 58, 59, 61, 62, 66, 68, 71, 72, 72, 80, 87, 88, 90, 92, 93, 95, 100, 103, 106, 111, 114, 115, 116, 117, 118, 121, 121, 130, 131, 133, 139, 142, 142, 148, 148, 152, 153, 159, 160, 162, 164, 166, 168, 170, 171, 172, 176, 177, 184, 186, 187, 193, 195, 196, 196, 198, 200, 202, 205, 205, 209, 209, 212, 213, 213, 213, 215, 216, 226, 226, 229, 231, 232, 233, 235, 236, 238, 242, 243, 248]\n",
      "pass\n",
      "Sorted: [2, 6, 7, 13, 13, 16, 16, 16, 19, 20, 20, 23, 23, 25, 26, 28, 31, 34, 40, 43, 43, 46, 48, 58, 58, 60, 63, 68, 73, 74, 75, 82, 84, 90, 92, 93, 95, 99, 101, 101, 113, 118, 120, 121, 124, 125, 129, 131, 134, 135, 139, 140, 140, 140, 141, 142, 144, 148, 149, 150, 151, 159, 162, 162, 162, 165, 165, 169, 170, 171, 171, 175, 176, 178, 180, 185, 186, 190, 196, 201, 203, 207, 207, 211, 215, 220, 221, 231, 231, 235, 239, 240, 241, 243, 243, 243, 249, 252, 252, 254]\n",
      "pass\n",
      "Sorted: [1, 2, 6, 6, 9, 10, 11, 12, 12, 12, 14, 18, 18, 25, 27, 27, 28, 28, 33, 34, 35, 36, 39, 46, 47, 47, 54, 56, 58, 60, 60, 61, 62, 69, 69, 72, 76, 77, 79, 82, 82, 86, 87, 89, 89, 90, 91, 91, 93, 94, 97, 99, 100, 101, 101, 109, 113, 115, 118, 121, 125, 125, 128, 129, 130, 133, 134, 136, 139, 144, 149, 151, 157, 157, 164, 166, 183, 186, 187, 187, 193, 203, 203, 204, 208, 208, 209, 214, 218, 218, 221, 221, 224, 232, 232, 235, 247, 253, 253, 254]\n",
      "pass\n",
      "Sorted: [6, 9, 10, 10, 12, 17, 20, 24, 26, 29, 29, 30, 31, 32, 32, 35, 36, 46, 47, 48, 49, 51, 51, 55, 58, 58, 64, 64, 70, 71, 72, 73, 73, 77, 77, 77, 77, 78, 78, 79, 81, 84, 84, 88, 88, 91, 100, 102, 111, 113, 114, 125, 126, 129, 136, 140, 143, 149, 150, 155, 156, 157, 160, 161, 161, 163, 167, 169, 175, 181, 183, 183, 187, 194, 194, 199, 202, 205, 209, 209, 219, 220, 221, 221, 222, 223, 225, 228, 230, 230, 231, 232, 238, 240, 242, 247, 252, 253, 253, 253]\n",
      "pass\n",
      "Sorted: [0, 3, 4, 6, 13, 13, 14, 18, 25, 29, 31, 32, 37, 38, 40, 41, 42, 44, 54, 56, 59, 61, 63, 65, 68, 70, 72, 72, 75, 75, 82, 83, 85, 88, 90, 93, 95, 96, 96, 97, 97, 98, 105, 111, 115, 115, 117, 117, 118, 118, 119, 119, 124, 128, 128, 129, 129, 134, 135, 143, 147, 148, 150, 152, 153, 154, 155, 157, 158, 159, 159, 171, 171, 177, 179, 181, 183, 184, 185, 187, 194, 197, 199, 202, 202, 204, 207, 209, 210, 214, 224, 226, 227, 228, 232, 240, 241, 248, 248, 253]\n",
      "pass\n",
      "Sorted: [5, 9, 9, 11, 13, 14, 15, 17, 18, 20, 20, 20, 22, 23, 28, 30, 31, 36, 36, 37, 39, 40, 40, 48, 50, 56, 58, 61, 65, 69, 70, 70, 71, 73, 73, 75, 79, 79, 81, 86, 88, 93, 96, 96, 100, 102, 105, 112, 113, 123, 127, 132, 136, 142, 143, 145, 147, 151, 155, 157, 161, 162, 162, 162, 163, 164, 165, 166, 168, 168, 169, 178, 178, 179, 180, 184, 188, 191, 191, 192, 196, 196, 197, 203, 203, 206, 206, 206, 210, 212, 218, 220, 226, 226, 233, 239, 243, 244, 245, 251]\n",
      "pass\n",
      "Sorted: [0, 3, 6, 8, 12, 13, 14, 14, 18, 23, 25, 28, 30, 31, 33, 37, 40, 40, 42, 45, 46, 47, 47, 50, 51, 51, 54, 55, 60, 61, 62, 63, 69, 75, 77, 81, 82, 83, 84, 84, 84, 86, 91, 94, 97, 99, 107, 113, 116, 121, 122, 123, 124, 126, 128, 134, 137, 138, 140, 143, 143, 144, 145, 151, 155, 156, 162, 175, 177, 177, 185, 187, 191, 192, 192, 193, 194, 196, 199, 207, 209, 210, 212, 212, 213, 213, 216, 216, 218, 218, 219, 220, 223, 229, 230, 231, 238, 246, 248, 251]\n",
      "pass\n",
      "Sorted: [0, 1, 7, 9, 21, 27, 29, 34, 38, 38, 43, 46, 47, 50, 50, 54, 54, 55, 56, 59, 64, 66, 67, 70, 70, 77, 78, 80, 82, 85, 86, 89, 93, 95, 97, 98, 99, 106, 106, 107, 108, 112, 113, 114, 117, 118, 118, 121, 121, 123, 126, 126, 127, 127, 131, 134, 136, 137, 145, 151, 154, 155, 157, 158, 158, 165, 171, 171, 172, 174, 179, 180, 183, 188, 192, 193, 194, 195, 197, 198, 199, 206, 207, 211, 211, 215, 218, 220, 224, 230, 237, 243, 243, 246, 247, 247, 249, 251, 253, 254]\n",
      "pass\n",
      "Sorted: [0, 4, 6, 10, 14, 15, 15, 16, 21, 34, 35, 40, 41, 41, 47, 53, 53, 57, 58, 61, 63, 64, 69, 70, 72, 73, 74, 75, 76, 77, 77, 78, 82, 83, 84, 86, 92, 92, 92, 106, 106, 106, 108, 113, 117, 121, 127, 127, 132, 132, 134, 134, 136, 138, 139, 146, 148, 150, 151, 155, 157, 180, 181, 189, 189, 191, 191, 193, 194, 195, 196, 196, 197, 203, 207, 209, 211, 212, 214, 215, 216, 217, 219, 222, 231, 233, 234, 238, 238, 241, 242, 243, 243, 245, 247, 250, 250, 252, 252, 253]\n",
      "pass\n",
      "Sorted: [1, 4, 11, 12, 16, 16, 20, 21, 23, 23, 26, 27, 29, 29, 29, 30, 31, 31, 37, 38, 39, 40, 42, 47, 47, 48, 52, 53, 56, 59, 59, 73, 75, 81, 82, 83, 84, 90, 92, 95, 98, 99, 106, 106, 108, 113, 113, 114, 116, 117, 118, 121, 121, 123, 125, 129, 135, 136, 139, 139, 143, 152, 154, 158, 159, 159, 160, 163, 164, 164, 166, 170, 171, 172, 186, 186, 187, 192, 192, 193, 194, 194, 194, 196, 198, 204, 205, 206, 207, 210, 210, 215, 220, 225, 226, 230, 233, 240, 246, 247]\n",
      "pass\n",
      "Sorted: [3, 4, 6, 9, 10, 21, 21, 22, 25, 28, 29, 30, 31, 39, 40, 41, 45, 51, 52, 56, 69, 70, 72, 76, 77, 79, 81, 81, 81, 82, 83, 83, 84, 85, 89, 89, 90, 92, 92, 93, 98, 98, 99, 100, 101, 101, 103, 107, 108, 109, 111, 113, 113, 120, 122, 126, 133, 138, 139, 139, 140, 140, 143, 146, 150, 150, 157, 163, 163, 174, 178, 178, 182, 184, 187, 190, 190, 193, 198, 202, 210, 214, 218, 224, 224, 228, 230, 231, 236, 237, 238, 239, 241, 243, 245, 248, 248, 252, 253, 253]\n"
     ]
    },
    {
     "ename": "AssertionError",
     "evalue": "K: 58, 138 != 133",
     "output_type": "error",
     "traceback": [
      "\u001b[1;31m---------------------------------------------------------------------------\u001b[0m",
      "\u001b[1;31mAssertionError\u001b[0m                            Traceback (most recent call last)",
      "Cell \u001b[1;32mIn[72], line 10\u001b[0m\n\u001b[0;32m      8\u001b[0m solution \u001b[38;5;241m=\u001b[39m \u001b[38;5;28msorted\u001b[39m(arr)[k\u001b[38;5;241m-\u001b[39m\u001b[38;5;241m1\u001b[39m]\n\u001b[0;32m      9\u001b[0m answer \u001b[38;5;241m=\u001b[39m quick_select(arr, k)\n\u001b[1;32m---> 10\u001b[0m \u001b[38;5;28;01massert\u001b[39;00m solution \u001b[38;5;241m==\u001b[39m answer, \u001b[38;5;124mf\u001b[39m\u001b[38;5;124m'\u001b[39m\u001b[38;5;124mK: \u001b[39m\u001b[38;5;132;01m{\u001b[39;00mk\u001b[38;5;132;01m}\u001b[39;00m\u001b[38;5;124m, \u001b[39m\u001b[38;5;132;01m{\u001b[39;00msolution\u001b[38;5;132;01m}\u001b[39;00m\u001b[38;5;124m != \u001b[39m\u001b[38;5;132;01m{\u001b[39;00manswer\u001b[38;5;132;01m}\u001b[39;00m\u001b[38;5;124m'\u001b[39m\n",
      "\u001b[1;31mAssertionError\u001b[0m: K: 58, 138 != 133"
     ]
    }
   ],
   "source": [
    "import numpy as np\n",
    "arr_len = 100\n",
    "for _ in range(20):\n",
    "    for k in range(2,arr_len,4):\n",
    "        print('pass')\n",
    "        arr = np.random.randint(0, 255, size=arr_len).tolist()\n",
    "        print('Sorted:', sorted(arr))\n",
    "        solution = sorted(arr)[k-1]\n",
    "        answer = quick_select(arr, k)\n",
    "        assert solution == answer, f'K: {k}, {solution} != {answer}'"
   ]
  },
  {
   "cell_type": "code",
   "execution_count": null,
   "id": "df9d6a87",
   "metadata": {},
   "outputs": [],
   "source": [
    "indices = list()\n",
    "\n",
    "K = 7\n",
    "\n",
    "test_list = [3,6,9,2,1,4,8,7,5,0,0,0,0,1,1,1,1,1]\n",
    "assert K < len(test_list)\n",
    "\n",
    "print('Original: ', test_list)\n",
    "print('Sorted:   ', sorted(test_list))\n",
    "print('Target:   ', sorted(test_list)[K - 1])\n",
    "# solution = quick_select(test_list, K)\n",
    "solution = kthLargestNum(0, len(test_list)-1, K, test_list)\n",
    "print('After:    ', test_list)\n",
    "\n",
    "# print(test_list)\n",
    "print('Solution: ', solution)"
   ]
  },
  {
   "cell_type": "markdown",
   "id": "67c0d841",
   "metadata": {},
   "source": [
    "# Quick Select"
   ]
  },
  {
   "cell_type": "code",
   "execution_count": null,
   "id": "b1d8b8c5",
   "metadata": {},
   "outputs": [],
   "source": [
    "# #main\n",
    "# k = int(input(\"Enter size k: \\n\"))\n",
    "# n = int(input(\"Enter size of list: \\n\"))\n",
    "# l = input(\"Enter numbers separated by spaces: \\n\")   # takes the whole line of n numbers\n",
    "# arr = list(map(int,l.split(' ')))\n",
    "\n",
    "# #find and print\n",
    "# kthIndex = kthLargestNum(0, n - 1, k, arr)\n",
    "# print(\"The top\", k, \"numbers are:\", end=' ')\n",
    "# for i in range(0, kthIndex + 1):\n",
    "#     print(arr[i], end=' ')"
   ]
  }
 ],
 "metadata": {
  "kernelspec": {
   "display_name": "Python 3 (ipykernel)",
   "language": "python",
   "name": "python3"
  },
  "language_info": {
   "codemirror_mode": {
    "name": "ipython",
    "version": 3
   },
   "file_extension": ".py",
   "mimetype": "text/x-python",
   "name": "python",
   "nbconvert_exporter": "python",
   "pygments_lexer": "ipython3",
   "version": "3.10.4"
  }
 },
 "nbformat": 4,
 "nbformat_minor": 5
}
