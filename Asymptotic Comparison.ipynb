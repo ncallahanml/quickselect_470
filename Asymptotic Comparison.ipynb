{
 "cells": [
  {
   "cell_type": "code",
   "execution_count": 1,
   "id": "c99a0804",
   "metadata": {},
   "outputs": [],
   "source": [
    "from copy import deepcopy\n",
    "import numpy as np"
   ]
  },
  {
   "cell_type": "code",
   "execution_count": null,
   "id": "f52c065a",
   "metadata": {},
   "outputs": [],
   "source": []
  },
  {
   "cell_type": "markdown",
   "id": "aef87f48",
   "metadata": {},
   "source": [
    "# Merge Sort"
   ]
  },
  {
   "cell_type": "code",
   "execution_count": 2,
   "id": "9728543e",
   "metadata": {},
   "outputs": [],
   "source": [
    "def sort(arr, sort_type='merge sort'):\n",
    "    if sort_type == 'merge sort':\n",
    "        merge_sort(arr, 0, len(arr) - 1)\n",
    "    return"
   ]
  },
  {
   "cell_type": "code",
   "execution_count": 3,
   "id": "671d687f",
   "metadata": {},
   "outputs": [],
   "source": [
    "def merge_sort(numbers, left, right):\n",
    "    if (left < right):\n",
    "        middle = (left + right) // 2\n",
    "\n",
    "        merge_sort(numbers, left, middle)\n",
    "        merge_sort(numbers, middle + 1, right)\n",
    "        merge(numbers, left, middle, right)\n",
    "\n",
    "def merge(numbers, left, middle, right):\n",
    "    # define index iterators: \n",
    "    # left arr: [i,...,middle], right arr: [j,...,right]\n",
    "    # working arr: [0,...,k,...,N-1]\n",
    "    i = left\n",
    "    j = middle + 1\n",
    "    k = left\n",
    "\n",
    "    # copy of the working array\n",
    "    temp = numbers\n",
    "    numbers = np.empty(len(temp))\n",
    "    \n",
    "    # iterate until one of the sides runs out of items\n",
    "    while (i <= middle and j <= right):\n",
    "        \n",
    "\n",
    "        if (temp[i] <= temp[j]):\n",
    "            numbers[k] = temp[i]\n",
    "            \n",
    "            i += 1\n",
    "        else:\n",
    "            numbers[k] = temp[j]\n",
    "            \n",
    "            j += 1\n",
    "\n",
    "        k += 1\n",
    "    \n",
    "    #append remaining from left side\n",
    "    while (i <= middle):\n",
    "\n",
    "        numbers[k] = temp[i]\n",
    "        \n",
    "        k += 1\n",
    "        i += 1\n",
    "\n",
    "    #append remaining from right side\n",
    "    while (j <= right):\n",
    "\n",
    "        numbers[k] = temp[j]\n",
    "        \n",
    "        \n",
    "        k += 1\n",
    "        j += 1"
   ]
  },
  {
   "cell_type": "markdown",
   "id": "673a2837",
   "metadata": {},
   "source": [
    "# Quick Sort"
   ]
  },
  {
   "cell_type": "code",
   "execution_count": 25,
   "id": "8270bad0",
   "metadata": {},
   "outputs": [],
   "source": [
    "def lomuto_partition(arr, left, right, pivot_idx):\n",
    "    pivot = arr[pivot_idx]\n",
    "    arr[right], arr[pivot_idx] = arr[pivot_idx], arr[right]\n",
    "\n",
    "    i = left\n",
    "    for j in range(left, right):\n",
    "        if arr[j] < pivot:\n",
    "            arr[i], arr[j] = arr[j], arr[i] \n",
    "            i += 1\n",
    "            \n",
    "    arr[right], arr[i] = arr[i], arr[right]\n",
    "    return i\n",
    "\n",
    "def select(arr, left, right, k):\n",
    "    if left == right - 1:\n",
    "        return arr[left]\n",
    "    \n",
    "    pivot_idx = left + (right - left + 1) // 2\n",
    "    pivot_idx = lomuto_partition(arr, left, right, pivot_idx)\n",
    "    if k == pivot_idx:\n",
    "        return arr[k]\n",
    "    elif k < pivot_idx:\n",
    "        return select(arr, left, pivot_idx - 1, k)\n",
    "    else:\n",
    "        return select(arr, pivot_idx + 1, right, k)\n",
    "    \n",
    "def quick_select(arr, k):\n",
    "    assert 0 < k < len(arr), 'K out of bounds'\n",
    "    return select(arr, 0, len(arr)-1, k-1)"
   ]
  },
  {
   "cell_type": "code",
   "execution_count": null,
   "id": "df9d6a87",
   "metadata": {},
   "outputs": [],
   "source": [
    "from timeit import timeit\n",
    "from time import perf_counter_ns\n",
    "import numpy as np\n",
    "import matplotlib.pyplot as plt\n",
    "import seaborn as sns\n",
    "\n",
    "max_size = 100\n",
    "arraysizes = np.linspace(10,max_size,1000, dtype='int32')\n",
    "n_repeats = 500\n",
    "time_list = list()\n",
    "for i, arraysize in enumerate(arraysizes):\n",
    "#     print('Progress:', i/(len(arraysizes)*3))\n",
    "    avg_list = list()\n",
    "    for j in range(n_repeats):\n",
    "        arr = np.random.randint(0, max_size, size=arraysize)\n",
    "        start = perf_counter_ns()\n",
    "        sort(arr, sort_type='merge sort')\n",
    "        end = perf_counter_ns()\n",
    "#         print((end - start) / 1e9)\n",
    "        avg_list.append((end - start)/1e9)\n",
    "    time_list.append(np.mean(avg_list))\n",
    "\n",
    "time_arr = np.array(time_list) * 1e3\n",
    "sns.lineplot(x=arraysizes, y=time_arr, label='mergesort')\n",
    "\n",
    "time_list.clear()\n",
    "for i, arraysize in enumerate(arraysizes):\n",
    "#     print('Progress:', i/(len(arraysizes)*3))\n",
    "    avg_list = list()\n",
    "    k = np.random.randint(1,arraysize-1)\n",
    "    for j in range(n_repeats):\n",
    "        arr = np.random.randint(0, max_size, size=arraysize)\n",
    "        start = perf_counter_ns()\n",
    "        quick_select(arr, k)\n",
    "        end = perf_counter_ns()\n",
    "#         print((end - start) / 1e9)\n",
    "        avg_list.append((end - start)/1e9)\n",
    "    time_list.append(np.mean(avg_list))\n",
    "\n",
    "time_arr = np.array(time_list) * 1e3\n",
    "sns.lineplot(x=arraysizes, y=time_arr, label='quickselect')\n",
    "plt.ylabel('Average Time Elapsed (ms)')\n",
    "plt.xlabel('Length of Integer Array')\n",
    "plt.legend()\n",
    "plt.savefig('merge_quick_comp.png', dpi=300)\n",
    "plt.show()"
   ]
  },
  {
   "cell_type": "markdown",
   "id": "67c0d841",
   "metadata": {},
   "source": [
    "# Quick Select"
   ]
  },
  {
   "cell_type": "code",
   "execution_count": null,
   "id": "b1d8b8c5",
   "metadata": {},
   "outputs": [],
   "source": [
    "# #main\n",
    "# k = int(input(\"Enter size k: \\n\"))\n",
    "# n = int(input(\"Enter size of list: \\n\"))\n",
    "# l = input(\"Enter numbers separated by spaces: \\n\")   # takes the whole line of n numbers\n",
    "# arr = list(map(int,l.split(' ')))\n",
    "\n",
    "# #find and print\n",
    "# kthIndex = kthLargestNum(0, n - 1, k, arr)\n",
    "# print(\"The top\", k, \"numbers are:\", end=' ')\n",
    "# for i in range(0, kthIndex + 1):\n",
    "#     print(arr[i], end=' ')"
   ]
  }
 ],
 "metadata": {
  "kernelspec": {
   "display_name": "Python 3 (ipykernel)",
   "language": "python",
   "name": "python3"
  },
  "language_info": {
   "codemirror_mode": {
    "name": "ipython",
    "version": 3
   },
   "file_extension": ".py",
   "mimetype": "text/x-python",
   "name": "python",
   "nbconvert_exporter": "python",
   "pygments_lexer": "ipython3",
   "version": "3.10.4"
  }
 },
 "nbformat": 4,
 "nbformat_minor": 5
}
