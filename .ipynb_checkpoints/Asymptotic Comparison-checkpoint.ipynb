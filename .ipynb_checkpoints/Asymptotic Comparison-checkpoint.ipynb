{
 "cells": [
  {
   "cell_type": "code",
   "execution_count": 1,
   "id": "c99a0804",
   "metadata": {},
   "outputs": [],
   "source": [
    "from copy import deepcopy\n",
    "import numpy as np"
   ]
  },
  {
   "cell_type": "code",
   "execution_count": null,
   "id": "f52c065a",
   "metadata": {},
   "outputs": [],
   "source": []
  },
  {
   "cell_type": "markdown",
   "id": "aef87f48",
   "metadata": {},
   "source": [
    "# Merge Sort"
   ]
  },
  {
   "cell_type": "code",
   "execution_count": 2,
   "id": "9728543e",
   "metadata": {},
   "outputs": [],
   "source": [
    "def sort(arr, sort_type='merge sort'):\n",
    "    if sort_type == 'merge sort':\n",
    "        merge_sort(arr, 0, len(arr) - 1)\n",
    "    return"
   ]
  },
  {
   "cell_type": "code",
   "execution_count": 1,
   "id": "671d687f",
   "metadata": {},
   "outputs": [],
   "source": [
    "def merge_sort(numbers, left, right):\n",
    "    if (left < right):\n",
    "        middle = (left + right) // 2\n",
    "\n",
    "        merge_sort(numbers, left, middle)\n",
    "        merge_sort(numbers, middle + 1, right)\n",
    "        merge(numbers, left, middle, right)\n",
    "\n",
    "def merge(numbers, left, middle, right):\n",
    "    # define index iterators: \n",
    "    # left arr: [i,...,middle], right arr: [j,...,right]\n",
    "    # working arr: [0,...,k,...,N-1]\n",
    "    i = left\n",
    "    j = middle + 1\n",
    "    k = left\n",
    "\n",
    "    # copy of the working array\n",
    "    temp = numbers\n",
    "    numbers = np.empty(len(temp))\n",
    "    \n",
    "    # iterate until one of the sides runs out of items\n",
    "    while (i <= middle and j <= right):\n",
    "        \n",
    "\n",
    "        if (temp[i] <= temp[j]):\n",
    "            numbers[k] = temp[i]\n",
    "            \n",
    "            i += 1\n",
    "        else:\n",
    "            numbers[k] = temp[j]\n",
    "            \n",
    "            j += 1\n",
    "\n",
    "        k += 1\n",
    "    \n",
    "    #append remaining from left side\n",
    "    while (i <= middle):\n",
    "\n",
    "        numbers[k] = temp[i]\n",
    "        \n",
    "        k += 1\n",
    "        i += 1\n",
    "\n",
    "    #append remaining from right side\n",
    "    while (j <= right):\n",
    "\n",
    "        numbers[k] = temp[j]\n",
    "        \n",
    "        \n",
    "        k += 1\n",
    "        j += 1"
   ]
  },
  {
   "cell_type": "code",
   "execution_count": 2,
   "id": "96fdffea",
   "metadata": {},
   "outputs": [
    {
     "name": "stdout",
     "output_type": "stream",
     "text": [
      "[3, 6, 9, 2, 1, 4, 8, 7, 5, 0]\n"
     ]
    },
    {
     "ename": "NameError",
     "evalue": "name 'sort' is not defined",
     "output_type": "error",
     "traceback": [
      "\u001b[1;31m---------------------------------------------------------------------------\u001b[0m",
      "\u001b[1;31mNameError\u001b[0m                                 Traceback (most recent call last)",
      "Cell \u001b[1;32mIn[2], line 3\u001b[0m\n\u001b[0;32m      1\u001b[0m test_list \u001b[38;5;241m=\u001b[39m [\u001b[38;5;241m3\u001b[39m,\u001b[38;5;241m6\u001b[39m,\u001b[38;5;241m9\u001b[39m,\u001b[38;5;241m2\u001b[39m,\u001b[38;5;241m1\u001b[39m,\u001b[38;5;241m4\u001b[39m,\u001b[38;5;241m8\u001b[39m,\u001b[38;5;241m7\u001b[39m,\u001b[38;5;241m5\u001b[39m,\u001b[38;5;241m0\u001b[39m]\n\u001b[0;32m      2\u001b[0m \u001b[38;5;28mprint\u001b[39m(test_list)\n\u001b[1;32m----> 3\u001b[0m \u001b[43msort\u001b[49m(test_list, sort_type\u001b[38;5;241m=\u001b[39m\u001b[38;5;124m'\u001b[39m\u001b[38;5;124mmerge sort\u001b[39m\u001b[38;5;124m'\u001b[39m)\n\u001b[0;32m      4\u001b[0m \u001b[38;5;28mprint\u001b[39m(test_list)\n",
      "\u001b[1;31mNameError\u001b[0m: name 'sort' is not defined"
     ]
    }
   ],
   "source": [
    "test_list = [3,6,9,2,1,4,8,7,5,0]\n",
    "print(test_list)\n",
    "sort(test_list, sort_type='merge sort')\n",
    "print(test_list)"
   ]
  },
  {
   "cell_type": "code",
   "execution_count": 2,
   "id": "9204e012",
   "metadata": {},
   "outputs": [
    {
     "name": "stdout",
     "output_type": "stream",
     "text": [
      "Progress: 0.0\n"
     ]
    },
    {
     "ename": "NameError",
     "evalue": "name 'sort' is not defined",
     "output_type": "error",
     "traceback": [
      "\u001b[1;31m---------------------------------------------------------------------------\u001b[0m",
      "\u001b[1;31mNameError\u001b[0m                                 Traceback (most recent call last)",
      "Cell \u001b[1;32mIn[2], line 15\u001b[0m\n\u001b[0;32m     13\u001b[0m arr \u001b[38;5;241m=\u001b[39m np\u001b[38;5;241m.\u001b[39mrandom\u001b[38;5;241m.\u001b[39mrandint(\u001b[38;5;241m0\u001b[39m, max_size, size\u001b[38;5;241m=\u001b[39marraysize)\n\u001b[0;32m     14\u001b[0m start \u001b[38;5;241m=\u001b[39m perf_counter_ns()\n\u001b[1;32m---> 15\u001b[0m \u001b[43msort\u001b[49m(arr, sort_type\u001b[38;5;241m=\u001b[39m\u001b[38;5;124m'\u001b[39m\u001b[38;5;124mmerge sort\u001b[39m\u001b[38;5;124m'\u001b[39m)\n\u001b[0;32m     16\u001b[0m end \u001b[38;5;241m=\u001b[39m perf_counter_ns()\n\u001b[0;32m     17\u001b[0m \u001b[38;5;28mprint\u001b[39m((end \u001b[38;5;241m-\u001b[39m start) \u001b[38;5;241m/\u001b[39m \u001b[38;5;241m1e9\u001b[39m)\n",
      "\u001b[1;31mNameError\u001b[0m: name 'sort' is not defined"
     ]
    }
   ],
   "source": [
    "from timeit import timeit\n",
    "from time import perf_counter_ns\n",
    "import numpy as np\n",
    "import matplotlib.pyplot as plt\n",
    "\n",
    "max_size = 10000000\n",
    "arraysizes = np.linspace(10,max_size,100, dtype='int32')\n",
    "time_list = list()\n",
    "for i, arraysize in enumerate(arraysizes):\n",
    "    print('Progress:', i/(len(arraysizes)*3))\n",
    "    avg_list = list()\n",
    "    for j in range(3):\n",
    "        arr = np.random.randint(0, max_size, size=arraysize)\n",
    "        start = perf_counter_ns()\n",
    "        sort(arr, sort_type='merge sort')\n",
    "        end = perf_counter_ns()\n",
    "        print((end - start) / 1e9)\n",
    "        avg_list.append((end - start)/1e9)\n",
    "    time_list.append(np.median(avg_list))\n",
    "\n",
    "plt.plot(arraysizes, time_list, '-r')\n",
    "plt.show()"
   ]
  },
  {
   "cell_type": "markdown",
   "id": "673a2837",
   "metadata": {},
   "source": [
    "# Quick Sort"
   ]
  },
  {
   "cell_type": "code",
   "execution_count": 38,
   "id": "8270bad0",
   "metadata": {},
   "outputs": [],
   "source": [
    "def lomuto_partition(arr, left, right, pivot_idx):\n",
    "    pivot = arr[pivot_idx]\n",
    "    arr[right], arr[pivot_idx] = arr[pivot_idx], arr[right]\n",
    "\n",
    "    i = left\n",
    "    for j in range(left, right):\n",
    "        if arr[j] < pivot:\n",
    "            arr[i], arr[j] = arr[j], arr[i] \n",
    "            i += 1\n",
    "            \n",
    "    arr[right], arr[i] = arr[i], arr[right]\n",
    "    return i\n",
    "\n",
    "def select(arr, left, right, k):\n",
    "    if left == right - 1:\n",
    "        return arr[left]\n",
    "    \n",
    "    pivot_idx = left + (right - left + 1) // 2\n",
    "    pivot_idx = lomuto_partition(arr, left, right, pivot_idx)\n",
    "    if k == pivot_idx:\n",
    "        return arr[k]\n",
    "    elif k < pivot_idx:\n",
    "        return select(arr, left, pivot_idx - 1, k)\n",
    "    else:\n",
    "        return select(arr, pivot_idx + 1, right, k)\n",
    "    \n",
    "def quick_select(arr, k):\n",
    "    assert 0 < k < len(arr), 'K out of bounds'\n",
    "    return select(arr, 0, len(arr)-1, k-1)"
   ]
  },
  {
   "cell_type": "code",
   "execution_count": null,
   "id": "df9d6a87",
   "metadata": {},
   "outputs": [],
   "source": [
    "indices = list()\n",
    "\n",
    "K = 7\n",
    "\n",
    "test_list = [3,6,9,2,1,4,8,7,5,0,0,0,0,1,1,1,1,1]\n",
    "assert K < len(test_list)\n",
    "\n",
    "print('Original: ', test_list)\n",
    "print('Sorted:   ', sorted(test_list))\n",
    "print('Target:   ', sorted(test_list)[K - 1])\n",
    "# solution = quick_select(test_list, K)\n",
    "solution = kthLargestNum(0, len(test_list)-1, K, test_list)\n",
    "print('After:    ', test_list)\n",
    "\n",
    "# print(test_list)\n",
    "print('Solution: ', solution)"
   ]
  },
  {
   "cell_type": "markdown",
   "id": "67c0d841",
   "metadata": {},
   "source": [
    "# Quick Select"
   ]
  },
  {
   "cell_type": "code",
   "execution_count": null,
   "id": "b1d8b8c5",
   "metadata": {},
   "outputs": [],
   "source": [
    "# #main\n",
    "# k = int(input(\"Enter size k: \\n\"))\n",
    "# n = int(input(\"Enter size of list: \\n\"))\n",
    "# l = input(\"Enter numbers separated by spaces: \\n\")   # takes the whole line of n numbers\n",
    "# arr = list(map(int,l.split(' ')))\n",
    "\n",
    "# #find and print\n",
    "# kthIndex = kthLargestNum(0, n - 1, k, arr)\n",
    "# print(\"The top\", k, \"numbers are:\", end=' ')\n",
    "# for i in range(0, kthIndex + 1):\n",
    "#     print(arr[i], end=' ')"
   ]
  }
 ],
 "metadata": {
  "kernelspec": {
   "display_name": "Python 3 (ipykernel)",
   "language": "python",
   "name": "python3"
  },
  "language_info": {
   "codemirror_mode": {
    "name": "ipython",
    "version": 3
   },
   "file_extension": ".py",
   "mimetype": "text/x-python",
   "name": "python",
   "nbconvert_exporter": "python",
   "pygments_lexer": "ipython3",
   "version": "3.10.4"
  }
 },
 "nbformat": 4,
 "nbformat_minor": 5
}
